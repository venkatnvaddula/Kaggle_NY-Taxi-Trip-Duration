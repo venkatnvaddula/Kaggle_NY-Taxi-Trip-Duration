{
 "cells": [
  {
   "cell_type": "code",
   "execution_count": null,
   "metadata": {
    "collapsed": true
   },
   "outputs": [],
   "source": [
    "import pandas as pd\n",
    "import numpy as np\n",
    "from sklearn.linear_model import LinearRegression\n",
    "from datetime import datetime\n",
    "from sklearn import preprocessing\n",
    "from sklearn.model_selection import train_test_split\n",
    "from sklearn.neural_network import MLPRegressor\n",
    "from sklearn.svm import SVR\n",
    "from sklearn.linear_model import SGDRegressor"
   ]
  },
  {
   "cell_type": "code",
   "execution_count": null,
   "metadata": {
    "collapsed": true
   },
   "outputs": [],
   "source": [
    "train = pd.read_csv('C:\\\\Users\\\\venka\\\\Desktop\\\\Kaggle\\\\NY city Taxi\\\\train.csv')\n",
    "test = pd.read_csv('C:\\\\Users\\\\venka\\\\Desktop\\\\Kaggle\\\\NY city Taxi\\\\test.csv')"
   ]
  },
  {
   "cell_type": "code",
   "execution_count": null,
   "metadata": {
    "collapsed": true
   },
   "outputs": [],
   "source": [
    "train = train.iloc[:,1:train.shape[1]]\n",
    "train = train.drop('dropoff_datetime',1)\n",
    "test = test.iloc[:,1:test.shape[1]]"
   ]
  },
  {
   "cell_type": "code",
   "execution_count": null,
   "metadata": {
    "collapsed": true
   },
   "outputs": [],
   "source": [
    "train['ptime'] = train['pickup_datetime'].astype(datetime)\n",
    "print(train['ptime'][:5])\n",
    "test['ptime'] = test['pickup_datetime'].astype(datetime)\n",
    "print(test['ptime'][:5])"
   ]
  },
  {
   "cell_type": "code",
   "execution_count": null,
   "metadata": {
    "collapsed": true
   },
   "outputs": [],
   "source": [
    "def h_m_features(ser):\n",
    "    #print(ser[:5])\n",
    "    hours = []\n",
    "    mini = []\n",
    "    #print(ser[2])\n",
    "    for i in range(len(ser)):\n",
    "        #print(i)\n",
    "        tim = str(ser[i][11:])\n",
    "        tim = tim.split(':')\n",
    "        tim = tim[:2]\n",
    "        tim = [int(x) for x in tim]\n",
    "        #print(tim,i)\n",
    "        hours.append(tim[0])\n",
    "        mini.append(tim[1])\n",
    "    return hours,mini"
   ]
  },
  {
   "cell_type": "code",
   "execution_count": null,
   "metadata": {
    "collapsed": true
   },
   "outputs": [],
   "source": [
    "hours1, mini1 = h_m_features(train['ptime'])\n",
    "train['phours'] = hours1\n",
    "train['mini1'] = mini1\n",
    "hours1, mini1 = h_m_features(test['ptime'])\n",
    "test['phours'] = hours1\n",
    "test['mini1'] = mini1"
   ]
  },
  {
   "cell_type": "code",
   "execution_count": null,
   "metadata": {
    "collapsed": true
   },
   "outputs": [],
   "source": [
    "train = train.drop('ptime',1)\n",
    "test = test.drop('ptime',1)\n",
    "train = train.drop('pickup_datetime',1)\n",
    "test = test.drop('pickup_datetime',1)"
   ]
  },
  {
   "cell_type": "code",
   "execution_count": null,
   "metadata": {
    "collapsed": true
   },
   "outputs": [],
   "source": [
    "from math import radians, cos, sin, asin, sqrt\n",
    "def haversine(lon1, lat1, lon2, lat2):\n",
    "    \"\"\"\n",
    "    Calculate the great circle distance between two points \n",
    "    on the earth (specified in decimal degrees)\n",
    "    \"\"\"\n",
    "    # convert decimal degrees to radians \n",
    "    lon1, lat1, lon2, lat2 = map(radians, [lon1, lat1, lon2, lat2])\n",
    "    # haversine formula \n",
    "    dlon = lon2 - lon1 \n",
    "    dlat = lat2 - lat1 \n",
    "    a = sin(dlat/2)**2 + cos(lat1) * cos(lat2) * sin(dlon/2)**2\n",
    "    c = 2 * asin(sqrt(a)) \n",
    "    km = 6367 * c\n",
    "    return km"
   ]
  },
  {
   "cell_type": "code",
   "execution_count": null,
   "metadata": {
    "collapsed": true
   },
   "outputs": [],
   "source": [
    "for dataset in [train,test]:\n",
    "    tripDistance = []\n",
    "    for j in range(dataset.shape[0]):\n",
    "        long1 = dataset['pickup_longitude'][j]\n",
    "        lati1 = dataset['pickup_latitude'][j]\n",
    "        long2 = dataset['dropoff_longitude'][j]\n",
    "        lati2 = dataset['dropoff_latitude'][j]\n",
    "        tripDistance.append(haversine(long1,lati1,long2,lati2))\n",
    "    dataset['trip_distance'] = tripDistance\n",
    "print(train['trip_distance'][:5])"
   ]
  },
  {
   "cell_type": "code",
   "execution_count": null,
   "metadata": {
    "collapsed": true
   },
   "outputs": [],
   "source": [
    "test['trip_distance'].describe()"
   ]
  },
  {
   "cell_type": "code",
   "execution_count": null,
   "metadata": {
    "collapsed": true
   },
   "outputs": [],
   "source": [
    "train = train.drop(['pickup_longitude','pickup_latitude','dropoff_longitude','dropoff_latitude'],1)\n",
    "test = test.drop(['pickup_longitude','pickup_latitude','dropoff_longitude','dropoff_latitude'],1)"
   ]
  },
  {
   "cell_type": "code",
   "execution_count": null,
   "metadata": {
    "collapsed": true
   },
   "outputs": [],
   "source": [
    "train['store_and_fwd_flag'] = train['store_and_fwd_flag'].map({'N':1,'Y':0}).astype(int)\n",
    "test['store_and_fwd_flag'] = test['store_and_fwd_flag'].map({'N':1,'Y':0}).astype(int)"
   ]
  },
  {
   "cell_type": "code",
   "execution_count": null,
   "metadata": {
    "collapsed": true
   },
   "outputs": [],
   "source": [
    "train.to_csv('C:\\\\Users\\\\venka\\\\Desktop\\\\Kaggle\\\\NY city Taxi\\\\train_cleaned.csv',index=False)\n",
    "test.to_csv('C:\\\\Users\\\\venka\\\\Desktop\\\\Kaggle\\\\NY city Taxi\\\\test_cleaned.csv',index=False)"
   ]
  },
  {
   "cell_type": "code",
   "execution_count": null,
   "metadata": {},
   "outputs": [],
   "source": [
    "train = pd.read_csv('C:\\\\Users\\\\venka\\\\Desktop\\\\Kaggle\\\\NY city Taxi\\\\train_cleaned.csv')\n",
    "test = pd.read_csv('C:\\\\Users\\\\venka\\\\Desktop\\\\Kaggle\\\\NY city Taxi\\\\test_cleaned.csv')\n",
    "out = pd.read_csv('C:\\\\Users\\\\venka\\\\Desktop\\\\Kaggle\\\\NY city Taxi\\\\sample_submission.csv')\n",
    "print(train.head())\n",
    "print(test.head())"
   ]
  },
  {
   "cell_type": "code",
   "execution_count": null,
   "metadata": {
    "collapsed": true
   },
   "outputs": [],
   "source": [
    "#train1 = train[train['trip_duration']<87000]\n",
    "train1 = train.copy()"
   ]
  },
  {
   "cell_type": "code",
   "execution_count": null,
   "metadata": {},
   "outputs": [],
   "source": [
    "x = train1.drop('trip_duration',1)\n",
    "y = train1['trip_duration']\n",
    "x = preprocessing.scale(x)\n",
    "#y = preprocessing.scale(y)\n",
    "x_train, x_valid, y_train, y_valid = train_test_split(x,y,test_size=0.33,random_state=99)\n",
    "print(x_train.shape,y_train.shape,x_valid.shape,y_valid.shape,test.shape)\n",
    "#print(y.describe())"
   ]
  },
  {
   "cell_type": "code",
   "execution_count": null,
   "metadata": {
    "scrolled": true
   },
   "outputs": [],
   "source": [
    "reg = SGDRegressor(max_iter=1000, verbose=1)\n",
    "#reg = SVR(kernel='linear')\n",
    "#reg = MLPRegressor()\n",
    "#reg = LinearRegression()\n",
    "#x_train = preprocessing.scale(x_train)\n",
    "#y_train = preprocessing.scale(y_train)\n",
    "print(reg)\n",
    "reg.fit(x_train,y_train)\n",
    "preds = reg.predict(x_valid)\n",
    "from sklearn.metrics import mean_squared_error\n",
    "mse = mean_squared_error(y_valid,preds)\n",
    "print(mse)\n",
    "print(pd.DataFrame(preds).describe())\n",
    "#out['trip_duration'] = preds\n",
    "#out['trip_duration'][out['trip_duration']<0] = out['trip_duration'].mean()\n",
    "#print(out['trip_duration'].describe())\n",
    "#out.to_csv('C:\\\\Users\\\\venka\\\\Desktop\\\\Kaggle\\\\NY city Taxi\\\\sample_submission3.csv', index=False)"
   ]
  },
  {
   "cell_type": "code",
   "execution_count": null,
   "metadata": {},
   "outputs": [],
   "source": [
    "#reg = SGDRegressor()\n",
    "print(reg)\n",
    "#reg = SVR(kernel='linear')\n",
    "#reg = MLPRegressor()\n",
    "#reg = LinearRegression()\n",
    "#x_train = preprocessing.scale(x_train)\n",
    "#y_train = preprocessing.scale(y_train)\n",
    "#reg.fit(x_train,y_train)\n",
    "#preds = reg.predict(x_valid)\n",
    "#from sklearn.metrics import mean_squared_error\n",
    "#mse = mean_squared_error(y_valid,preds)\n",
    "#print(mse)\n",
    "#print(pd.DataFrame(preds).describe())\n",
    "test = preprocessing.scale(test)\n",
    "preds = reg.predict(test)\n",
    "out['trip_duration'] = preds\n",
    "out['trip_duration'][out['trip_duration']<0] = out['trip_duration'].mean()\n",
    "print(out['trip_duration'].describe())\n",
    "out.to_csv('C:\\\\Users\\\\venka\\\\Desktop\\\\Kaggle\\\\NY city Taxi\\\\sample_submissionSGD.csv', index=False)"
   ]
  },
  {
   "cell_type": "code",
   "execution_count": null,
   "metadata": {
    "collapsed": true
   },
   "outputs": [],
   "source": [
    "#reg = SGDRegressor()\n",
    "reg = SVR(kernel='linear',verbose=100)\n",
    "#reg = MLPRegressor()\n",
    "#reg = LinearRegression()\n",
    "print(reg)\n",
    "#x_train = preprocessing.scale(x_train)\n",
    "#y_train = preprocessing.scale(y_train)\n",
    "reg.fit(x_train,y_train)\n",
    "#preds = reg.predict(x_valid)\n",
    "#from sklearn.metrics import mean_squared_error\n",
    "#mse = mean_squared_error(y_valid,preds)\n",
    "#print(mse)\n",
    "#print(pd.DataFrame(preds).describe())\n",
    "preds = reg.predict(test)\n",
    "out['trip_duration'] = preds\n",
    "out['trip_duration'][out['trip_duration']<0] = out['trip_duration'].mean()\n",
    "print(out['trip_duration'].describe())\n",
    "out.to_csv('C:\\\\Users\\\\venka\\\\Desktop\\\\Kaggle\\\\NY city Taxi\\\\sample_submissionSVR.csv', index=False)"
   ]
  },
  {
   "cell_type": "code",
   "execution_count": null,
   "metadata": {
    "collapsed": true
   },
   "outputs": [],
   "source": [
    "from sklearn.neural_network import MLPRegressor\n",
    "from sklearn.svm import SVR\n",
    "from sklearn.linear_model import SGDRegressor\n",
    "#reg = SGDRegressor()\n",
    "#reg = SVR(kernel='linear')\n",
    "reg = MLPRegressor()\n",
    "#reg = LinearRegression()\n",
    "print(reg)\n",
    "#x_train = preprocessing.scale(x_train)\n",
    "#y_train = preprocessing.scale(y_train)\n",
    "reg.fit(x_train,y_train)\n",
    "#preds = reg.predict(x_valid)\n",
    "#from sklearn.metrics import mean_squared_error\n",
    "#mse = mean_squared_error(y_valid,preds)\n",
    "#print(mse)\n",
    "#print(pd.DataFrame(preds).describe())\n",
    "preds = reg.predict(test)\n",
    "out['trip_duration'] = preds\n",
    "out['trip_duration'][out['trip_duration']<0] = out['trip_duration'].mean()\n",
    "print(out['trip_duration'].describe())\n",
    "out.to_csv('C:\\\\Users\\\\venka\\\\Desktop\\\\Kaggle\\\\NY city Taxi\\\\sample_submissionMLP.csv', index=False)"
   ]
  },
  {
   "cell_type": "code",
   "execution_count": null,
   "metadata": {
    "collapsed": true
   },
   "outputs": [],
   "source": [
    "import matplotlib.pyplot as plt\n",
    "\n",
    "plt.plot(train1['trip_duration']/60)\n",
    "plt.show()"
   ]
  }
 ],
 "metadata": {
  "kernelspec": {
   "display_name": "Python 3",
   "language": "python",
   "name": "python3"
  },
  "language_info": {
   "codemirror_mode": {
    "name": "ipython",
    "version": 3
   },
   "file_extension": ".py",
   "mimetype": "text/x-python",
   "name": "python",
   "nbconvert_exporter": "python",
   "pygments_lexer": "ipython3",
   "version": "3.6.1"
  }
 },
 "nbformat": 4,
 "nbformat_minor": 2
}
